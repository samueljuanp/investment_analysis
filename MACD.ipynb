{
 "cells": [
  {
   "cell_type": "markdown",
   "id": "ea04eafd",
   "metadata": {},
   "source": [
    "## Import Libraries"
   ]
  },
  {
   "cell_type": "code",
   "execution_count": 1,
   "id": "3a22522b",
   "metadata": {},
   "outputs": [],
   "source": [
    "import pandas as pd\n",
    "pd.options.display.float_format = \"{:,.3f}\".format\n",
    "pd.set_option('display.max_rows', 20)\n",
    "pd.set_option('display.max_columns', 20)\n",
    "pd.set_option('display.width', 100)\n",
    "\n",
    "import matplotlib.pyplot as plt\n",
    "import pandas_datareader as wb\n",
    "import datetime as dt\n",
    "import numpy as np"
   ]
  },
  {
   "cell_type": "markdown",
   "id": "b2bf7217",
   "metadata": {},
   "source": [
    "## Set Parameters"
   ]
  },
  {
   "cell_type": "code",
   "execution_count": 2,
   "id": "1b5a4a64",
   "metadata": {},
   "outputs": [],
   "source": [
    "ticker = 'SPY'\n",
    "start = '2000-01-01'\n",
    "end = None\n",
    "\n",
    "# moving average params\n",
    "fast_ema = 20\n",
    "slow_ema = 40\n",
    "sign_ema = 3\n",
    "band = 0.03"
   ]
  },
  {
   "cell_type": "markdown",
   "id": "6e4b5619",
   "metadata": {},
   "source": [
    "## Retrieve Data & Compute Moving Averages"
   ]
  },
  {
   "cell_type": "code",
   "execution_count": 3,
   "id": "ebc1b058",
   "metadata": {},
   "outputs": [],
   "source": [
    "# fetch daily data\n",
    "daily = wb.DataReader(ticker, 'yahoo', start, end)[['Open','High','Low','Close']]\n",
    "\n",
    "# calculate fast and slow ema\n",
    "daily[f'EMA_{fast_ema}'] = daily['Close'].ewm(span=fast_ema).mean()\n",
    "daily[f'EMA_{slow_ema}'] = daily['Close'].ewm(span=slow_ema).mean()\n",
    "daily['EMA_Diff'] = daily[f'EMA_{fast_ema}'] - daily[f'EMA_{slow_ema}']\n",
    "daily['EMA_Cross'] = daily['EMA_Diff'] - daily['EMA_Diff'].ewm(span=sign_ema).mean()\n",
    "daily['Cross_Chg'] = daily['EMA_Cross'].diff()\n",
    "\n",
    "# calculate ema trend\n",
    "daily['EMA_Signal'] = daily['EMA_Cross'].apply(lambda x: 1 if x >= band else 0 if x <= -band else np.nan)\n",
    "daily['EMA_Signal'].fillna(method='pad', inplace=True)"
   ]
  },
  {
   "cell_type": "code",
   "execution_count": 4,
   "id": "41b7c2b3",
   "metadata": {},
   "outputs": [
    {
     "data": {
      "text/html": [
       "<div>\n",
       "<style scoped>\n",
       "    .dataframe tbody tr th:only-of-type {\n",
       "        vertical-align: middle;\n",
       "    }\n",
       "\n",
       "    .dataframe tbody tr th {\n",
       "        vertical-align: top;\n",
       "    }\n",
       "\n",
       "    .dataframe thead th {\n",
       "        text-align: right;\n",
       "    }\n",
       "</style>\n",
       "<table border=\"1\" class=\"dataframe\">\n",
       "  <thead>\n",
       "    <tr style=\"text-align: right;\">\n",
       "      <th></th>\n",
       "      <th>EMA_20</th>\n",
       "      <th>EMA_40</th>\n",
       "      <th>EMA_Diff</th>\n",
       "      <th>EMA_Cross</th>\n",
       "      <th>Cross_Chg</th>\n",
       "      <th>EMA_Signal</th>\n",
       "    </tr>\n",
       "    <tr>\n",
       "      <th>Date</th>\n",
       "      <th></th>\n",
       "      <th></th>\n",
       "      <th></th>\n",
       "      <th></th>\n",
       "      <th></th>\n",
       "      <th></th>\n",
       "    </tr>\n",
       "  </thead>\n",
       "  <tbody>\n",
       "    <tr>\n",
       "      <th>2021-08-27</th>\n",
       "      <td>443.782</td>\n",
       "      <td>439.230</td>\n",
       "      <td>4.551</td>\n",
       "      <td>0.060</td>\n",
       "      <td>0.056</td>\n",
       "      <td>1.000</td>\n",
       "    </tr>\n",
       "    <tr>\n",
       "      <th>2021-08-30</th>\n",
       "      <td>444.586</td>\n",
       "      <td>439.864</td>\n",
       "      <td>4.722</td>\n",
       "      <td>0.115</td>\n",
       "      <td>0.055</td>\n",
       "      <td>1.000</td>\n",
       "    </tr>\n",
       "    <tr>\n",
       "      <th>2021-08-31</th>\n",
       "      <td>445.250</td>\n",
       "      <td>440.435</td>\n",
       "      <td>4.815</td>\n",
       "      <td>0.104</td>\n",
       "      <td>-0.011</td>\n",
       "      <td>1.000</td>\n",
       "    </tr>\n",
       "    <tr>\n",
       "      <th>2021-09-01</th>\n",
       "      <td>445.874</td>\n",
       "      <td>440.989</td>\n",
       "      <td>4.885</td>\n",
       "      <td>0.087</td>\n",
       "      <td>-0.018</td>\n",
       "      <td>1.000</td>\n",
       "    </tr>\n",
       "    <tr>\n",
       "      <th>2021-09-02</th>\n",
       "      <td>446.571</td>\n",
       "      <td>441.584</td>\n",
       "      <td>4.986</td>\n",
       "      <td>0.094</td>\n",
       "      <td>0.007</td>\n",
       "      <td>1.000</td>\n",
       "    </tr>\n",
       "    <tr>\n",
       "      <th>2021-09-03</th>\n",
       "      <td>447.191</td>\n",
       "      <td>442.145</td>\n",
       "      <td>5.046</td>\n",
       "      <td>0.077</td>\n",
       "      <td>-0.018</td>\n",
       "      <td>1.000</td>\n",
       "    </tr>\n",
       "    <tr>\n",
       "      <th>2021-09-07</th>\n",
       "      <td>447.597</td>\n",
       "      <td>442.600</td>\n",
       "      <td>4.998</td>\n",
       "      <td>0.014</td>\n",
       "      <td>-0.062</td>\n",
       "      <td>1.000</td>\n",
       "    </tr>\n",
       "    <tr>\n",
       "      <th>2021-09-08</th>\n",
       "      <td>447.913</td>\n",
       "      <td>443.005</td>\n",
       "      <td>4.908</td>\n",
       "      <td>-0.038</td>\n",
       "      <td>-0.052</td>\n",
       "      <td>0.000</td>\n",
       "    </tr>\n",
       "    <tr>\n",
       "      <th>2021-09-09</th>\n",
       "      <td>448.015</td>\n",
       "      <td>443.296</td>\n",
       "      <td>4.718</td>\n",
       "      <td>-0.114</td>\n",
       "      <td>-0.076</td>\n",
       "      <td>0.000</td>\n",
       "    </tr>\n",
       "    <tr>\n",
       "      <th>2021-09-10</th>\n",
       "      <td>447.769</td>\n",
       "      <td>443.401</td>\n",
       "      <td>4.368</td>\n",
       "      <td>-0.232</td>\n",
       "      <td>-0.118</td>\n",
       "      <td>0.000</td>\n",
       "    </tr>\n",
       "    <tr>\n",
       "      <th>2021-09-13</th>\n",
       "      <td>447.656</td>\n",
       "      <td>443.556</td>\n",
       "      <td>4.100</td>\n",
       "      <td>-0.250</td>\n",
       "      <td>-0.018</td>\n",
       "      <td>0.000</td>\n",
       "    </tr>\n",
       "    <tr>\n",
       "      <th>2021-09-14</th>\n",
       "      <td>447.324</td>\n",
       "      <td>443.586</td>\n",
       "      <td>3.738</td>\n",
       "      <td>-0.306</td>\n",
       "      <td>-0.056</td>\n",
       "      <td>0.000</td>\n",
       "    </tr>\n",
       "    <tr>\n",
       "      <th>2021-09-15</th>\n",
       "      <td>447.377</td>\n",
       "      <td>443.796</td>\n",
       "      <td>3.581</td>\n",
       "      <td>-0.231</td>\n",
       "      <td>0.075</td>\n",
       "      <td>0.000</td>\n",
       "    </tr>\n",
       "    <tr>\n",
       "      <th>2021-09-16</th>\n",
       "      <td>447.357</td>\n",
       "      <td>443.960</td>\n",
       "      <td>3.397</td>\n",
       "      <td>-0.208</td>\n",
       "      <td>0.023</td>\n",
       "      <td>0.000</td>\n",
       "    </tr>\n",
       "    <tr>\n",
       "      <th>2021-09-17</th>\n",
       "      <td>446.790</td>\n",
       "      <td>443.835</td>\n",
       "      <td>2.955</td>\n",
       "      <td>-0.325</td>\n",
       "      <td>-0.117</td>\n",
       "      <td>0.000</td>\n",
       "    </tr>\n",
       "  </tbody>\n",
       "</table>\n",
       "</div>"
      ],
      "text/plain": [
       "            EMA_20  EMA_40  EMA_Diff  EMA_Cross  Cross_Chg  EMA_Signal\n",
       "Date                                                                  \n",
       "2021-08-27 443.782 439.230     4.551      0.060      0.056       1.000\n",
       "2021-08-30 444.586 439.864     4.722      0.115      0.055       1.000\n",
       "2021-08-31 445.250 440.435     4.815      0.104     -0.011       1.000\n",
       "2021-09-01 445.874 440.989     4.885      0.087     -0.018       1.000\n",
       "2021-09-02 446.571 441.584     4.986      0.094      0.007       1.000\n",
       "2021-09-03 447.191 442.145     5.046      0.077     -0.018       1.000\n",
       "2021-09-07 447.597 442.600     4.998      0.014     -0.062       1.000\n",
       "2021-09-08 447.913 443.005     4.908     -0.038     -0.052       0.000\n",
       "2021-09-09 448.015 443.296     4.718     -0.114     -0.076       0.000\n",
       "2021-09-10 447.769 443.401     4.368     -0.232     -0.118       0.000\n",
       "2021-09-13 447.656 443.556     4.100     -0.250     -0.018       0.000\n",
       "2021-09-14 447.324 443.586     3.738     -0.306     -0.056       0.000\n",
       "2021-09-15 447.377 443.796     3.581     -0.231      0.075       0.000\n",
       "2021-09-16 447.357 443.960     3.397     -0.208      0.023       0.000\n",
       "2021-09-17 446.790 443.835     2.955     -0.325     -0.117       0.000"
      ]
     },
     "execution_count": 4,
     "metadata": {},
     "output_type": "execute_result"
    }
   ],
   "source": [
    "daily.iloc[-15:,-6:]"
   ]
  },
  {
   "cell_type": "markdown",
   "id": "17f1076a",
   "metadata": {},
   "source": [
    "## Backtest Strategy"
   ]
  },
  {
   "cell_type": "code",
   "execution_count": 5,
   "id": "85f8f212",
   "metadata": {},
   "outputs": [
    {
     "data": {
      "image/png": "[encoded data removed]",
      "text/plain": [
       "<Figure size 936x576 with 1 Axes>"
      ]
     },
     "metadata": {
      "needs_background": "light"
     },
     "output_type": "display_data"
    }
   ],
   "source": [
    "start_year = '2001'\n",
    "end_year = None\n",
    "leverage = 1\n",
    "\n",
    "strat = daily.loc[start_year:end_year,'EMA_Signal'].shift(2) * daily.loc[start_year:,'Close'].pct_change() * leverage\n",
    "buy_hold = daily.loc[start_year:end_year, 'Close'].pct_change()\n",
    "\n",
    "plt.title(f'{ticker}')\n",
    "(strat + 1).cumprod(skipna=True).plot(figsize=(13,8), label='Trading')\n",
    "(buy_hold + 1).cumprod(skipna=True).plot(label='Investing')\n",
    "\n",
    "plt.legend()\n",
    "plt.show()"
   ]
  },
  {
   "cell_type": "code",
   "execution_count": 6,
   "id": "118f4086",
   "metadata": {},
   "outputs": [
    {
     "data": {
      "text/plain": [
       "1.1200506325900954"
      ]
     },
     "execution_count": 6,
     "metadata": {},
     "output_type": "execute_result"
    }
   ],
   "source": [
    "(strat.mean() / strat.std() * np.sqrt(252)) / (buy_hold.mean() / buy_hold.std() * np.sqrt(252))"
   ]
  },
  {
   "cell_type": "markdown",
   "id": "79b10b32",
   "metadata": {},
   "source": [
    "## The End"
   ]
  }
 ],
 "metadata": {
  "kernelspec": {
   "display_name": "Python 3",
   "language": "python",
   "name": "python3"
  },
  "language_info": {
   "codemirror_mode": {
    "name": "ipython",
    "version": 3
   },
   "file_extension": ".py",
   "mimetype": "text/x-python",
   "name": "python",
   "nbconvert_exporter": "python",
   "pygments_lexer": "ipython3",
   "version": "3.8.8"
  }
 },
 "nbformat": 4,
 "nbformat_minor": 5
}
