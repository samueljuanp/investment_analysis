{
 "cells": [
  {
   "cell_type": "markdown",
   "id": "ea04eafd",
   "metadata": {},
   "source": [
    "## Import Libraries"
   ]
  },
  {
   "cell_type": "code",
   "execution_count": 1,
   "id": "3a22522b",
   "metadata": {},
   "outputs": [],
   "source": [
    "import pandas as pd\n",
    "pd.options.display.float_format = \"{:,.2f}\".format\n",
    "pd.set_option('display.max_rows', 20)\n",
    "pd.set_option('display.max_columns', 20)\n",
    "pd.set_option('display.width', 100)\n",
    "\n",
    "import matplotlib.pyplot as plt\n",
    "import pandas_datareader as wb\n",
    "import datetime as dt\n",
    "import numpy as np"
   ]
  },
  {
   "cell_type": "markdown",
   "id": "b2bf7217",
   "metadata": {},
   "source": [
    "## Set Parameters"
   ]
  },
  {
   "cell_type": "code",
   "execution_count": 2,
   "id": "1b5a4a64",
   "metadata": {},
   "outputs": [],
   "source": [
    "ticker = 'SPY'\n",
    "start = '2000-01-01'\n",
    "end = None\n",
    "\n",
    "# stochastic params\n",
    "lookback = 9\n",
    "k_period = 3\n",
    "d_period = 3\n",
    "oversold = 20\n",
    "overbought = 80\n",
    "\n",
    "# moving average params\n",
    "fast_ema = 20\n",
    "slow_ema = 40\n",
    "sign_ema = 3\n",
    "\n",
    "# momentum param\n",
    "momentum = 200"
   ]
  },
  {
   "cell_type": "markdown",
   "id": "6e4b5619",
   "metadata": {},
   "source": [
    "## Retrieve and Manipulate Daily Data"
   ]
  },
  {
   "cell_type": "code",
   "execution_count": 3,
   "id": "ebc1b058",
   "metadata": {},
   "outputs": [],
   "source": [
    "# fetch daily data\n",
    "daily = wb.DataReader(ticker, 'yahoo', start, end)[['Open','High','Low','Close']]\n",
    "\n",
    "# compute daily momentum\n",
    "daily['Momentum'] = daily['Close'].pct_change(momentum)\n",
    "daily['Momentum'] = daily['Momentum'].apply(lambda x: 1 if x > 0 else \\\n",
    "                                                     -1 if x <= 0 else np.nan)\n",
    "\n",
    "# compute daily rolling high and low during lookback period\n",
    "daily_roll_high = daily['High'].rolling(window=lookback).max()\n",
    "daily_roll_low = daily['Low'].rolling(window=lookback).min()\n",
    "\n",
    "# compute daily %K\n",
    "daily_pct_k = ((daily['Close'] - daily_roll_low) / (daily_roll_high - daily_roll_low)) * 100\n",
    "\n",
    "# compute daily %D using smoothed moving average\n",
    "smoothed_k = 2 * k_period - 1\n",
    "smoothed_d = 2 * d_period - 1\n",
    "daily['Full_K'] = daily_pct_k.ewm(span=smoothed_k).mean()\n",
    "daily['Full_D'] = daily['Full_K'].ewm(span=smoothed_d).mean()\n",
    "\n",
    "# compute crossover and change in signal\n",
    "stoch_cross = np.sign(daily['Full_K'] - daily['Full_D']).diff()\n",
    "daily['Stoch_Trend'] = np.nan\n",
    "\n",
    "# calculate daily turn\n",
    "for j in range(1, len(daily)):\n",
    "\n",
    "    # reference\n",
    "    date = daily.index[j]\n",
    "    change_now = stoch_cross.iloc[j]\n",
    "    prev_k = daily.iloc[j-1]['Full_K']\n",
    "    prev_d = daily.iloc[j-1]['Full_D']\n",
    "\n",
    "    # bullish signal\n",
    "    if change_now > 0:\n",
    "        if (prev_k <= oversold) and (prev_d <= oversold):\n",
    "            daily.loc[date,'Stoch_Trend'] = 1\n",
    "        else:\n",
    "            daily.loc[date,'Stoch_Trend'] = 1\n",
    "\n",
    "    # bearish signal\n",
    "    elif change_now < 0:\n",
    "        if (prev_k >= overbought) and (prev_d >= overbought):\n",
    "            daily.loc[date,'Stoch_Trend'] = -1\n",
    "        else:\n",
    "            daily.loc[date,'Stoch_Trend'] = 0\n",
    "\n",
    "    # no confirmed signal\n",
    "    else: pass\n",
    "    \n",
    "# carry forward daily signal\n",
    "daily.fillna(method='pad', inplace=True)\n",
    "\n",
    "# calculate fast and slow ema\n",
    "daily[f'EMA_{fast_ema}'] = daily['Close'].ewm(span=fast_ema).mean()\n",
    "daily[f'EMA_{slow_ema}'] = daily['Close'].ewm(span=slow_ema).mean()\n",
    "daily['EMA_Diff'] = daily[f'EMA_{fast_ema}'] - daily[f'EMA_{slow_ema}']\n",
    "daily['EMA_Signal'] = daily['EMA_Diff'].rolling(window=sign_ema).mean()\n",
    "\n",
    "# calculate ema trend\n",
    "daily['EMA_Trend'] = (daily['EMA_Diff'] - daily['EMA_Signal']) \\\n",
    "                     .apply(lambda x: 1 if x > 0 else -1 if x <= 0 else np.nan)\n",
    "\n",
    "daily['Score'] = daily['Momentum'] + daily['Stoch_Trend'] + daily['EMA_Trend']\n",
    "daily['Combined'] = daily['Score'].apply(lambda x: 1 if x >= 2 else 0 if x < 2 else np.nan)"
   ]
  },
  {
   "cell_type": "code",
   "execution_count": 4,
   "id": "6a041a30",
   "metadata": {},
   "outputs": [
    {
     "data": {
      "text/html": [
       "<div>\n",
       "<style scoped>\n",
       "    .dataframe tbody tr th:only-of-type {\n",
       "        vertical-align: middle;\n",
       "    }\n",
       "\n",
       "    .dataframe tbody tr th {\n",
       "        vertical-align: top;\n",
       "    }\n",
       "\n",
       "    .dataframe thead th {\n",
       "        text-align: right;\n",
       "    }\n",
       "</style>\n",
       "<table border=\"1\" class=\"dataframe\">\n",
       "  <thead>\n",
       "    <tr style=\"text-align: right;\">\n",
       "      <th></th>\n",
       "      <th>Momentum</th>\n",
       "      <th>Stoch_Trend</th>\n",
       "      <th>EMA_Trend</th>\n",
       "      <th>Score</th>\n",
       "      <th>Combined</th>\n",
       "    </tr>\n",
       "    <tr>\n",
       "      <th>Date</th>\n",
       "      <th></th>\n",
       "      <th></th>\n",
       "      <th></th>\n",
       "      <th></th>\n",
       "      <th></th>\n",
       "    </tr>\n",
       "  </thead>\n",
       "  <tbody>\n",
       "    <tr>\n",
       "      <th>1999-12-31</th>\n",
       "      <td>NaN</td>\n",
       "      <td>NaN</td>\n",
       "      <td>NaN</td>\n",
       "      <td>NaN</td>\n",
       "      <td>NaN</td>\n",
       "    </tr>\n",
       "    <tr>\n",
       "      <th>2000-01-03</th>\n",
       "      <td>NaN</td>\n",
       "      <td>NaN</td>\n",
       "      <td>NaN</td>\n",
       "      <td>NaN</td>\n",
       "      <td>NaN</td>\n",
       "    </tr>\n",
       "    <tr>\n",
       "      <th>2000-01-04</th>\n",
       "      <td>NaN</td>\n",
       "      <td>NaN</td>\n",
       "      <td>-1.00</td>\n",
       "      <td>NaN</td>\n",
       "      <td>NaN</td>\n",
       "    </tr>\n",
       "    <tr>\n",
       "      <th>2000-01-05</th>\n",
       "      <td>NaN</td>\n",
       "      <td>NaN</td>\n",
       "      <td>-1.00</td>\n",
       "      <td>NaN</td>\n",
       "      <td>NaN</td>\n",
       "    </tr>\n",
       "    <tr>\n",
       "      <th>2000-01-06</th>\n",
       "      <td>NaN</td>\n",
       "      <td>NaN</td>\n",
       "      <td>-1.00</td>\n",
       "      <td>NaN</td>\n",
       "      <td>NaN</td>\n",
       "    </tr>\n",
       "    <tr>\n",
       "      <th>...</th>\n",
       "      <td>...</td>\n",
       "      <td>...</td>\n",
       "      <td>...</td>\n",
       "      <td>...</td>\n",
       "      <td>...</td>\n",
       "    </tr>\n",
       "    <tr>\n",
       "      <th>2021-09-13</th>\n",
       "      <td>1.00</td>\n",
       "      <td>-1.00</td>\n",
       "      <td>-1.00</td>\n",
       "      <td>-1.00</td>\n",
       "      <td>0.00</td>\n",
       "    </tr>\n",
       "    <tr>\n",
       "      <th>2021-09-14</th>\n",
       "      <td>1.00</td>\n",
       "      <td>-1.00</td>\n",
       "      <td>-1.00</td>\n",
       "      <td>-1.00</td>\n",
       "      <td>0.00</td>\n",
       "    </tr>\n",
       "    <tr>\n",
       "      <th>2021-09-15</th>\n",
       "      <td>1.00</td>\n",
       "      <td>-1.00</td>\n",
       "      <td>-1.00</td>\n",
       "      <td>-1.00</td>\n",
       "      <td>0.00</td>\n",
       "    </tr>\n",
       "    <tr>\n",
       "      <th>2021-09-16</th>\n",
       "      <td>1.00</td>\n",
       "      <td>-1.00</td>\n",
       "      <td>-1.00</td>\n",
       "      <td>-1.00</td>\n",
       "      <td>0.00</td>\n",
       "    </tr>\n",
       "    <tr>\n",
       "      <th>2021-09-17</th>\n",
       "      <td>1.00</td>\n",
       "      <td>-1.00</td>\n",
       "      <td>-1.00</td>\n",
       "      <td>-1.00</td>\n",
       "      <td>0.00</td>\n",
       "    </tr>\n",
       "  </tbody>\n",
       "</table>\n",
       "<p>5464 rows × 5 columns</p>\n",
       "</div>"
      ],
      "text/plain": [
       "            Momentum  Stoch_Trend  EMA_Trend  Score  Combined\n",
       "Date                                                         \n",
       "1999-12-31       NaN          NaN        NaN    NaN       NaN\n",
       "2000-01-03       NaN          NaN        NaN    NaN       NaN\n",
       "2000-01-04       NaN          NaN      -1.00    NaN       NaN\n",
       "2000-01-05       NaN          NaN      -1.00    NaN       NaN\n",
       "2000-01-06       NaN          NaN      -1.00    NaN       NaN\n",
       "...              ...          ...        ...    ...       ...\n",
       "2021-09-13      1.00        -1.00      -1.00  -1.00      0.00\n",
       "2021-09-14      1.00        -1.00      -1.00  -1.00      0.00\n",
       "2021-09-15      1.00        -1.00      -1.00  -1.00      0.00\n",
       "2021-09-16      1.00        -1.00      -1.00  -1.00      0.00\n",
       "2021-09-17      1.00        -1.00      -1.00  -1.00      0.00\n",
       "\n",
       "[5464 rows x 5 columns]"
      ]
     },
     "execution_count": 4,
     "metadata": {},
     "output_type": "execute_result"
    }
   ],
   "source": [
    "daily[['Momentum','Stoch_Trend','EMA_Trend','Score','Combined']]"
   ]
  },
  {
   "cell_type": "markdown",
   "id": "17f1076a",
   "metadata": {},
   "source": [
    "## Backtest Strategy"
   ]
  },
  {
   "cell_type": "code",
   "execution_count": 5,
   "id": "85f8f212",
   "metadata": {},
   "outputs": [
    {
     "data": {
      "image/png": "[encoded data removed]",
      "text/plain": [
       "<Figure size 936x576 with 1 Axes>"
      ]
     },
     "metadata": {
      "needs_background": "light"
     },
     "output_type": "display_data"
    }
   ],
   "source": [
    "start_year = '2005'\n",
    "end_year = None\n",
    "leverage = 1\n",
    "\n",
    "strat = daily.loc[start_year:end_year,'Combined'].shift(2) * daily.loc[start_year:,'Close'].pct_change() * leverage\n",
    "buy_hold = daily.loc[start_year:end_year, 'Close'].pct_change()\n",
    "\n",
    "plt.title(f'{ticker}')\n",
    "strat.cumsum(skipna=True).plot(figsize=(13,8), label='Trading')\n",
    "buy_hold.cumsum(skipna=True).plot(label='Investment')\n",
    "\n",
    "plt.legend()\n",
    "plt.show()"
   ]
  },
  {
   "cell_type": "code",
   "execution_count": 6,
   "id": "118f4086",
   "metadata": {},
   "outputs": [
    {
     "data": {
      "text/plain": [
       "1.100309339746622"
      ]
     },
     "execution_count": 6,
     "metadata": {},
     "output_type": "execute_result"
    }
   ],
   "source": [
    "(strat.mean() / strat.std() * np.sqrt(252)) / (buy_hold.mean() / buy_hold.std() * np.sqrt(252))"
   ]
  },
  {
   "cell_type": "markdown",
   "id": "79b10b32",
   "metadata": {},
   "source": [
    "## The End"
   ]
  }
 ],
 "metadata": {
  "kernelspec": {
   "display_name": "Python 3",
   "language": "python",
   "name": "python3"
  },
  "language_info": {
   "codemirror_mode": {
    "name": "ipython",
    "version": 3
   },
   "file_extension": ".py",
   "mimetype": "text/x-python",
   "name": "python",
   "nbconvert_exporter": "python",
   "pygments_lexer": "ipython3",
   "version": "3.8.8"
  }
 },
 "nbformat": 4,
 "nbformat_minor": 5
}
