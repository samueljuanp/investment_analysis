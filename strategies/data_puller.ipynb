{
 "cells": [
  {
   "cell_type": "code",
   "execution_count": 1,
   "id": "5e7c3f63",
   "metadata": {},
   "outputs": [],
   "source": [
    "import pandas as pd\n",
    "import pandas_datareader as wb\n",
    "import datetime as dt"
   ]
  },
  {
   "cell_type": "code",
   "execution_count": 2,
   "id": "aed3ce25",
   "metadata": {},
   "outputs": [],
   "source": [
    "data = pd.read_csv('sp500.csv', index_col=0)\n",
    "tickers = sorted(data.index)\n",
    "tickers.remove('BF/B')\n",
    "tickers.remove('BRK/B')"
   ]
  },
  {
   "cell_type": "code",
   "execution_count": 3,
   "id": "16608bb9",
   "metadata": {},
   "outputs": [],
   "source": [
    "start = dt.datetime.today() - dt.timedelta(10)\n",
    "end = dt.datetime.today()"
   ]
  },
  {
   "cell_type": "code",
   "execution_count": 4,
   "id": "128cd47b",
   "metadata": {},
   "outputs": [
    {
     "name": "stdout",
     "output_type": "stream",
     "text": [
      "Wall time: 10min 38s\n"
     ]
    }
   ],
   "source": [
    "%%time\n",
    "price = wb.DataReader(tickers, 'yahoo', start, end)['Close']"
   ]
  },
  {
   "cell_type": "code",
   "execution_count": 5,
   "id": "cb0cf3d3",
   "metadata": {},
   "outputs": [],
   "source": [
    "existing = pd.read_csv('spx_member_price.csv', index_col=0, parse_dates=True)\n",
    "to_append = [date for date in price.index if date not in existing.index]\n",
    "existing = pd.concat([existing, price.loc[to_append,:]]).sort_index()\n",
    "existing.to_csv('spx_member_price.csv')"
   ]
  }
 ],
 "metadata": {
  "kernelspec": {
   "display_name": "Python 3",
   "language": "python",
   "name": "python3"
  },
  "language_info": {
   "codemirror_mode": {
    "name": "ipython",
    "version": 3
   },
   "file_extension": ".py",
   "mimetype": "text/x-python",
   "name": "python",
   "nbconvert_exporter": "python",
   "pygments_lexer": "ipython3",
   "version": "3.8.8"
  }
 },
 "nbformat": 4,
 "nbformat_minor": 5
}
